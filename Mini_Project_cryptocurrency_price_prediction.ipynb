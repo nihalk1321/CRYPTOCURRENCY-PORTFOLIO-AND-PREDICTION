{
  "nbformat": 4,
  "nbformat_minor": 0,
  "metadata": {
    "colab": {
      "name": "Mini_Project_cryptocurrency-price-prediction.ipynb",
      "provenance": [],
      "collapsed_sections": []
    },
    "kernelspec": {
      "name": "python3",
      "display_name": "Python 3"
    }
  },
  "cells": [
    {
      "cell_type": "code",
      "metadata": {
        "id": "iQV2UL22wWOm"
      },
      "source": [
        "import json\n",
        "import requests\n",
        "from keras.models import Sequential\n",
        "from keras.layers import Activation, Dense, Dropout, LSTM\n",
        "import matplotlib.pyplot as plt\n",
        "import numpy as np\n",
        "import pandas as pd\n",
        "import seaborn as sns\n",
        "from sklearn.metrics import mean_absolute_error\n",
        "%matplotlib inline"
      ],
      "execution_count": 115,
      "outputs": []
    },
    {
      "cell_type": "code",
      "metadata": {
        "id": "nVG3vREAwq5r"
      },
      "source": [
        "endpoint = 'https://min-api.cryptocompare.com/data/histoday'\n",
        "res = requests.get(endpoint + '?fsym=BTC&tsym=USD&limit=2000')\n",
        "hist = pd.DataFrame(json.loads(res.content)['Data'])\n",
        "hist = hist.set_index('time')\n",
        "hist.index = pd.to_datetime(hist.index, unit='s')\n",
        "target_col = 'close'"
      ],
      "execution_count": 116,
      "outputs": []
    },
    {
      "cell_type": "code",
      "metadata": {
        "id": "xhQoQilew4R5",
        "colab": {
          "base_uri": "https://localhost:8080/",
          "height": 450
        },
        "outputId": "13d632df-24bb-41b3-8bb0-29229f9a2001"
      },
      "source": [
        "hist"
      ],
      "execution_count": 117,
      "outputs": [
        {
          "output_type": "execute_result",
          "data": {
            "text/html": [
              "<div>\n",
              "<style scoped>\n",
              "    .dataframe tbody tr th:only-of-type {\n",
              "        vertical-align: middle;\n",
              "    }\n",
              "\n",
              "    .dataframe tbody tr th {\n",
              "        vertical-align: top;\n",
              "    }\n",
              "\n",
              "    .dataframe thead th {\n",
              "        text-align: right;\n",
              "    }\n",
              "</style>\n",
              "<table border=\"1\" class=\"dataframe\">\n",
              "  <thead>\n",
              "    <tr style=\"text-align: right;\">\n",
              "      <th></th>\n",
              "      <th>high</th>\n",
              "      <th>low</th>\n",
              "      <th>open</th>\n",
              "      <th>volumefrom</th>\n",
              "      <th>volumeto</th>\n",
              "      <th>close</th>\n",
              "      <th>conversionType</th>\n",
              "      <th>conversionSymbol</th>\n",
              "    </tr>\n",
              "    <tr>\n",
              "      <th>time</th>\n",
              "      <th></th>\n",
              "      <th></th>\n",
              "      <th></th>\n",
              "      <th></th>\n",
              "      <th></th>\n",
              "      <th></th>\n",
              "      <th></th>\n",
              "      <th></th>\n",
              "    </tr>\n",
              "  </thead>\n",
              "  <tbody>\n",
              "    <tr>\n",
              "      <th>2015-09-12</th>\n",
              "      <td>240.32</td>\n",
              "      <td>233.32</td>\n",
              "      <td>239.90</td>\n",
              "      <td>43773.90</td>\n",
              "      <td>1.040718e+07</td>\n",
              "      <td>235.60</td>\n",
              "      <td>direct</td>\n",
              "      <td></td>\n",
              "    </tr>\n",
              "    <tr>\n",
              "      <th>2015-09-13</th>\n",
              "      <td>236.16</td>\n",
              "      <td>228.28</td>\n",
              "      <td>235.60</td>\n",
              "      <td>51595.80</td>\n",
              "      <td>1.198336e+07</td>\n",
              "      <td>230.19</td>\n",
              "      <td>direct</td>\n",
              "      <td></td>\n",
              "    </tr>\n",
              "    <tr>\n",
              "      <th>2015-09-14</th>\n",
              "      <td>232.64</td>\n",
              "      <td>225.96</td>\n",
              "      <td>230.19</td>\n",
              "      <td>61097.39</td>\n",
              "      <td>1.407091e+07</td>\n",
              "      <td>229.91</td>\n",
              "      <td>direct</td>\n",
              "      <td></td>\n",
              "    </tr>\n",
              "    <tr>\n",
              "      <th>2015-09-15</th>\n",
              "      <td>242.83</td>\n",
              "      <td>228.03</td>\n",
              "      <td>229.91</td>\n",
              "      <td>49516.04</td>\n",
              "      <td>1.142547e+07</td>\n",
              "      <td>229.53</td>\n",
              "      <td>direct</td>\n",
              "      <td></td>\n",
              "    </tr>\n",
              "    <tr>\n",
              "      <th>2015-09-16</th>\n",
              "      <td>230.89</td>\n",
              "      <td>225.05</td>\n",
              "      <td>229.53</td>\n",
              "      <td>51913.10</td>\n",
              "      <td>1.186673e+07</td>\n",
              "      <td>228.60</td>\n",
              "      <td>direct</td>\n",
              "      <td></td>\n",
              "    </tr>\n",
              "    <tr>\n",
              "      <th>...</th>\n",
              "      <td>...</td>\n",
              "      <td>...</td>\n",
              "      <td>...</td>\n",
              "      <td>...</td>\n",
              "      <td>...</td>\n",
              "      <td>...</td>\n",
              "      <td>...</td>\n",
              "      <td>...</td>\n",
              "    </tr>\n",
              "    <tr>\n",
              "      <th>2021-02-28</th>\n",
              "      <td>46645.90</td>\n",
              "      <td>43061.92</td>\n",
              "      <td>46191.39</td>\n",
              "      <td>62249.50</td>\n",
              "      <td>2.776726e+09</td>\n",
              "      <td>45261.03</td>\n",
              "      <td>direct</td>\n",
              "      <td></td>\n",
              "    </tr>\n",
              "    <tr>\n",
              "      <th>2021-03-01</th>\n",
              "      <td>49812.20</td>\n",
              "      <td>45058.98</td>\n",
              "      <td>45261.03</td>\n",
              "      <td>65660.60</td>\n",
              "      <td>3.146266e+09</td>\n",
              "      <td>49635.07</td>\n",
              "      <td>direct</td>\n",
              "      <td></td>\n",
              "    </tr>\n",
              "    <tr>\n",
              "      <th>2021-03-02</th>\n",
              "      <td>50221.14</td>\n",
              "      <td>47097.84</td>\n",
              "      <td>49635.07</td>\n",
              "      <td>43281.84</td>\n",
              "      <td>2.105388e+09</td>\n",
              "      <td>48501.21</td>\n",
              "      <td>direct</td>\n",
              "      <td></td>\n",
              "    </tr>\n",
              "    <tr>\n",
              "      <th>2021-03-03</th>\n",
              "      <td>52625.39</td>\n",
              "      <td>48176.64</td>\n",
              "      <td>48501.21</td>\n",
              "      <td>51572.27</td>\n",
              "      <td>2.615514e+09</td>\n",
              "      <td>50392.55</td>\n",
              "      <td>direct</td>\n",
              "      <td></td>\n",
              "    </tr>\n",
              "    <tr>\n",
              "      <th>2021-03-04</th>\n",
              "      <td>51792.65</td>\n",
              "      <td>48564.72</td>\n",
              "      <td>50392.55</td>\n",
              "      <td>38458.59</td>\n",
              "      <td>1.914620e+09</td>\n",
              "      <td>49535.36</td>\n",
              "      <td>direct</td>\n",
              "      <td></td>\n",
              "    </tr>\n",
              "  </tbody>\n",
              "</table>\n",
              "<p>2001 rows × 8 columns</p>\n",
              "</div>"
            ],
            "text/plain": [
              "                high       low  ...  conversionType  conversionSymbol\n",
              "time                            ...                                  \n",
              "2015-09-12    240.32    233.32  ...          direct                  \n",
              "2015-09-13    236.16    228.28  ...          direct                  \n",
              "2015-09-14    232.64    225.96  ...          direct                  \n",
              "2015-09-15    242.83    228.03  ...          direct                  \n",
              "2015-09-16    230.89    225.05  ...          direct                  \n",
              "...              ...       ...  ...             ...               ...\n",
              "2021-02-28  46645.90  43061.92  ...          direct                  \n",
              "2021-03-01  49812.20  45058.98  ...          direct                  \n",
              "2021-03-02  50221.14  47097.84  ...          direct                  \n",
              "2021-03-03  52625.39  48176.64  ...          direct                  \n",
              "2021-03-04  51792.65  48564.72  ...          direct                  \n",
              "\n",
              "[2001 rows x 8 columns]"
            ]
          },
          "metadata": {
            "tags": []
          },
          "execution_count": 117
        }
      ]
    },
    {
      "cell_type": "code",
      "metadata": {
        "id": "y-nMH3rNdaOs"
      },
      "source": [
        "hist = hist.drop(columns = ['conversionType','conversionSymbol'])"
      ],
      "execution_count": 118,
      "outputs": []
    },
    {
      "cell_type": "code",
      "metadata": {
        "id": "WPPn3soJw7hM"
      },
      "source": [
        "def train_test_split(df, test_size=0.2):\n",
        "    split_row = len(df) - int(test_size * len(df))\n",
        "    train_data = df.iloc[:split_row]\n",
        "    test_data = df.iloc[split_row:]\n",
        "    return train_data, test_data"
      ],
      "execution_count": 119,
      "outputs": []
    },
    {
      "cell_type": "code",
      "metadata": {
        "id": "TN54bUbJxFAR"
      },
      "source": [
        "train, test = train_test_split(hist, test_size=0.2)"
      ],
      "execution_count": 120,
      "outputs": []
    },
    {
      "cell_type": "code",
      "metadata": {
        "id": "QDVmOaKjxHsq"
      },
      "source": [
        "def line_plot(line1, line2, label1=None, label2=None, title='', lw=2):\n",
        "    fig, ax = plt.subplots(1, figsize=(13, 7))\n",
        "    ax.plot(line1, label=label1, linewidth=lw)\n",
        "    ax.plot(line2, label=label2, linewidth=lw)\n",
        "    ax.set_ylabel('price [CAD]', fontsize=14)\n",
        "    ax.set_title(title, fontsize=16)\n",
        "    ax.legend(loc='best', fontsize=16);"
      ],
      "execution_count": 121,
      "outputs": []
    },
    {
      "cell_type": "code",
      "metadata": {
        "id": "n5Vtnp5BxLPV",
        "colab": {
          "base_uri": "https://localhost:8080/",
          "height": 430
        },
        "outputId": "a7f14a0b-7082-4973-f5fa-2109ff00974e"
      },
      "source": [
        "line_plot(train[target_col], test[target_col], 'Training', 'Test', title='')"
      ],
      "execution_count": 122,
      "outputs": [
        {
          "output_type": "display_data",
          "data": {
            "image/png": "[encoded data removed]",
            "text/plain": [
              "<Figure size 936x504 with 1 Axes>"
            ]
          },
          "metadata": {
            "tags": [],
            "needs_background": "light"
          }
        }
      ]
    },
    {
      "cell_type": "code",
      "metadata": {
        "id": "jCqXbCY1xNQJ"
      },
      "source": [
        "def normalise_zero_base(df):\n",
        "    return df / df.iloc[0] - 1\n",
        "\n",
        "def normalise_min_max(df):\n",
        "    return (df - df.min()) / (data.max() - df.min())"
      ],
      "execution_count": 123,
      "outputs": []
    },
    {
      "cell_type": "code",
      "metadata": {
        "id": "Te8LEHRIxQmp"
      },
      "source": [
        "def extract_window_data(df, window_len=5, zero_base=True):\n",
        "    window_data = []\n",
        "    for idx in range(len(df) - window_len):\n",
        "        tmp = df[idx: (idx + window_len)].copy()\n",
        "        if zero_base:\n",
        "            tmp = normalise_zero_base(tmp)\n",
        "        window_data.append(tmp.values)\n",
        "    return np.array(window_data)"
      ],
      "execution_count": 124,
      "outputs": []
    },
    {
      "cell_type": "code",
      "metadata": {
        "id": "pzMqs5EnxTIV"
      },
      "source": [
        "def prepare_data(df, target_col, window_len=10, zero_base=True, test_size=0.2):\n",
        "    train_data, test_data = train_test_split(df, test_size=test_size)\n",
        "    X_train = extract_window_data(train_data, window_len, zero_base)\n",
        "    X_test = extract_window_data(test_data, window_len, zero_base)\n",
        "    y_train = train_data[target_col][window_len:].values\n",
        "    y_test = test_data[target_col][window_len:].values\n",
        "    if zero_base:\n",
        "        y_train = y_train / train_data[target_col][:-window_len].values - 1\n",
        "        y_test = y_test / test_data[target_col][:-window_len].values - 1\n",
        "\n",
        "    return train_data, test_data, X_train, X_test, y_train, y_test"
      ],
      "execution_count": 125,
      "outputs": []
    },
    {
      "cell_type": "code",
      "metadata": {
        "id": "tAuMAkmMxbi1"
      },
      "source": [
        "def build_lstm_model(input_data, output_size, neurons=100, activ_func='linear',\n",
        "                     dropout=0.2, loss='mse', optimizer='adam'):\n",
        "    model = Sequential()\n",
        "    model.add(LSTM(neurons, input_shape=(input_data.shape[1], input_data.shape[2])))\n",
        "    model.add(Dropout(dropout))\n",
        "    model.add(Dense(units=output_size))\n",
        "    model.add(Activation(activ_func))\n",
        "\n",
        "    model.compile(loss=loss, optimizer=optimizer)\n",
        "    return model"
      ],
      "execution_count": 126,
      "outputs": []
    },
    {
      "cell_type": "code",
      "metadata": {
        "id": "K0bCXALSxdPs"
      },
      "source": [
        "np.random.seed(42)\n",
        "window_len = 5\n",
        "test_size = 0.2\n",
        "zero_base = True\n",
        "lstm_neurons = 100\n",
        "epochs = 100\n",
        "batch_size = 32\n",
        "loss = 'mse'\n",
        "dropout = 0.2\n",
        "optimizer = 'adam'"
      ],
      "execution_count": 127,
      "outputs": []
    },
    {
      "cell_type": "code",
      "metadata": {
        "id": "nl9qrUJwxfat"
      },
      "source": [
        "train, test, X_train, X_test, y_train, y_test = prepare_data(\n",
        "    hist, target_col, window_len=window_len, zero_base=zero_base, test_size=test_size)"
      ],
      "execution_count": 128,
      "outputs": []
    },
    {
      "cell_type": "code",
      "metadata": {
        "id": "2NKqkVIHxn6V",
        "colab": {
          "base_uri": "https://localhost:8080/"
        },
        "outputId": "28f1c66d-6143-4f48-9670-033eed853241"
      },
      "source": [
        "model = build_lstm_model(\n",
        "    X_train, output_size=1, neurons=lstm_neurons, dropout=dropout, loss=loss,\n",
        "    optimizer=optimizer)\n",
        "history = model.fit(\n",
        "    X_train, y_train, epochs=epochs, batch_size=batch_size, verbose=1, shuffle=True)"
      ],
      "execution_count": 129,
      "outputs": [
        {
          "output_type": "stream",
          "text": [
            "Epoch 1/100\n",
            "50/50 [==============================] - 2s 6ms/step - loss: 0.0062\n",
            "Epoch 2/100\n",
            "50/50 [==============================] - 0s 5ms/step - loss: 0.0037\n",
            "Epoch 3/100\n",
            "50/50 [==============================] - 0s 6ms/step - loss: 0.0033\n",
            "Epoch 4/100\n",
            "50/50 [==============================] - 0s 5ms/step - loss: 0.0033\n",
            "Epoch 5/100\n",
            "50/50 [==============================] - 0s 6ms/step - loss: 0.0023\n",
            "Epoch 6/100\n",
            "50/50 [==============================] - 0s 6ms/step - loss: 0.0025\n",
            "Epoch 7/100\n",
            "50/50 [==============================] - 0s 5ms/step - loss: 0.0021\n",
            "Epoch 8/100\n",
            "50/50 [==============================] - 0s 6ms/step - loss: 0.0021\n",
            "Epoch 9/100\n",
            "50/50 [==============================] - 0s 5ms/step - loss: 0.0020\n",
            "Epoch 10/100\n",
            "50/50 [==============================] - 0s 6ms/step - loss: 0.0020\n",
            "Epoch 11/100\n",
            "50/50 [==============================] - 0s 5ms/step - loss: 0.0021\n",
            "Epoch 12/100\n",
            "50/50 [==============================] - 0s 5ms/step - loss: 0.0019\n",
            "Epoch 13/100\n",
            "50/50 [==============================] - 0s 6ms/step - loss: 0.0019\n",
            "Epoch 14/100\n",
            "50/50 [==============================] - 0s 6ms/step - loss: 0.0018\n",
            "Epoch 15/100\n",
            "50/50 [==============================] - 0s 5ms/step - loss: 0.0017\n",
            "Epoch 16/100\n",
            "50/50 [==============================] - 0s 6ms/step - loss: 0.0019\n",
            "Epoch 17/100\n",
            "50/50 [==============================] - 0s 6ms/step - loss: 0.0018\n",
            "Epoch 18/100\n",
            "50/50 [==============================] - 0s 5ms/step - loss: 0.0017\n",
            "Epoch 19/100\n",
            "50/50 [==============================] - 0s 5ms/step - loss: 0.0017\n",
            "Epoch 20/100\n",
            "50/50 [==============================] - 0s 5ms/step - loss: 0.0017\n",
            "Epoch 21/100\n",
            "50/50 [==============================] - 0s 6ms/step - loss: 0.0019\n",
            "Epoch 22/100\n",
            "50/50 [==============================] - 0s 5ms/step - loss: 0.0016\n",
            "Epoch 23/100\n",
            "50/50 [==============================] - 0s 6ms/step - loss: 0.0018\n",
            "Epoch 24/100\n",
            "50/50 [==============================] - 0s 5ms/step - loss: 0.0018\n",
            "Epoch 25/100\n",
            "50/50 [==============================] - 0s 6ms/step - loss: 0.0018\n",
            "Epoch 26/100\n",
            "50/50 [==============================] - 0s 6ms/step - loss: 0.0016\n",
            "Epoch 27/100\n",
            "50/50 [==============================] - 0s 6ms/step - loss: 0.0018\n",
            "Epoch 28/100\n",
            "50/50 [==============================] - 0s 6ms/step - loss: 0.0017\n",
            "Epoch 29/100\n",
            "50/50 [==============================] - 0s 6ms/step - loss: 0.0016\n",
            "Epoch 30/100\n",
            "50/50 [==============================] - 0s 5ms/step - loss: 0.0017\n",
            "Epoch 31/100\n",
            "50/50 [==============================] - 0s 6ms/step - loss: 0.0017\n",
            "Epoch 32/100\n",
            "50/50 [==============================] - 0s 6ms/step - loss: 0.0016\n",
            "Epoch 33/100\n",
            "50/50 [==============================] - 0s 5ms/step - loss: 0.0016\n",
            "Epoch 34/100\n",
            "50/50 [==============================] - 0s 5ms/step - loss: 0.0016\n",
            "Epoch 35/100\n",
            "50/50 [==============================] - 0s 6ms/step - loss: 0.0017\n",
            "Epoch 36/100\n",
            "50/50 [==============================] - 0s 5ms/step - loss: 0.0017\n",
            "Epoch 37/100\n",
            "50/50 [==============================] - 0s 5ms/step - loss: 0.0017\n",
            "Epoch 38/100\n",
            "50/50 [==============================] - 0s 6ms/step - loss: 0.0017\n",
            "Epoch 39/100\n",
            "50/50 [==============================] - 0s 6ms/step - loss: 0.0017\n",
            "Epoch 40/100\n",
            "50/50 [==============================] - 0s 6ms/step - loss: 0.0017\n",
            "Epoch 41/100\n",
            "50/50 [==============================] - 0s 6ms/step - loss: 0.0018\n",
            "Epoch 42/100\n",
            "50/50 [==============================] - 0s 5ms/step - loss: 0.0017\n",
            "Epoch 43/100\n",
            "50/50 [==============================] - 0s 6ms/step - loss: 0.0020\n",
            "Epoch 44/100\n",
            "50/50 [==============================] - 0s 6ms/step - loss: 0.0015\n",
            "Epoch 45/100\n",
            "50/50 [==============================] - 0s 6ms/step - loss: 0.0016\n",
            "Epoch 46/100\n",
            "50/50 [==============================] - 0s 6ms/step - loss: 0.0019\n",
            "Epoch 47/100\n",
            "50/50 [==============================] - 0s 6ms/step - loss: 0.0016\n",
            "Epoch 48/100\n",
            "50/50 [==============================] - 0s 5ms/step - loss: 0.0016\n",
            "Epoch 49/100\n",
            "50/50 [==============================] - 0s 5ms/step - loss: 0.0017\n",
            "Epoch 50/100\n",
            "50/50 [==============================] - 0s 6ms/step - loss: 0.0015\n",
            "Epoch 51/100\n",
            "50/50 [==============================] - 0s 7ms/step - loss: 0.0016\n",
            "Epoch 52/100\n",
            "50/50 [==============================] - 0s 6ms/step - loss: 0.0018\n",
            "Epoch 53/100\n",
            "50/50 [==============================] - 0s 6ms/step - loss: 0.0017\n",
            "Epoch 54/100\n",
            "50/50 [==============================] - 0s 5ms/step - loss: 0.0016\n",
            "Epoch 55/100\n",
            "50/50 [==============================] - 0s 6ms/step - loss: 0.0016\n",
            "Epoch 56/100\n",
            "50/50 [==============================] - 0s 6ms/step - loss: 0.0019\n",
            "Epoch 57/100\n",
            "50/50 [==============================] - 0s 6ms/step - loss: 0.0017\n",
            "Epoch 58/100\n",
            "50/50 [==============================] - 0s 5ms/step - loss: 0.0017\n",
            "Epoch 59/100\n",
            "50/50 [==============================] - 0s 6ms/step - loss: 0.0016\n",
            "Epoch 60/100\n",
            "50/50 [==============================] - 0s 6ms/step - loss: 0.0016\n",
            "Epoch 61/100\n",
            "50/50 [==============================] - 0s 6ms/step - loss: 0.0016\n",
            "Epoch 62/100\n",
            "50/50 [==============================] - 0s 5ms/step - loss: 0.0015\n",
            "Epoch 63/100\n",
            "50/50 [==============================] - 0s 6ms/step - loss: 0.0018\n",
            "Epoch 64/100\n",
            "50/50 [==============================] - 0s 6ms/step - loss: 0.0016\n",
            "Epoch 65/100\n",
            "50/50 [==============================] - 0s 6ms/step - loss: 0.0016\n",
            "Epoch 66/100\n",
            "50/50 [==============================] - 0s 6ms/step - loss: 0.0017\n",
            "Epoch 67/100\n",
            "50/50 [==============================] - 0s 6ms/step - loss: 0.0016\n",
            "Epoch 68/100\n",
            "50/50 [==============================] - 0s 6ms/step - loss: 0.0015\n",
            "Epoch 69/100\n",
            "50/50 [==============================] - 0s 5ms/step - loss: 0.0017\n",
            "Epoch 70/100\n",
            "50/50 [==============================] - 0s 6ms/step - loss: 0.0017\n",
            "Epoch 71/100\n",
            "50/50 [==============================] - 0s 6ms/step - loss: 0.0017\n",
            "Epoch 72/100\n",
            "50/50 [==============================] - 0s 6ms/step - loss: 0.0017\n",
            "Epoch 73/100\n",
            "50/50 [==============================] - 0s 6ms/step - loss: 0.0016\n",
            "Epoch 74/100\n",
            "50/50 [==============================] - 0s 6ms/step - loss: 0.0016\n",
            "Epoch 75/100\n",
            "50/50 [==============================] - 0s 6ms/step - loss: 0.0017\n",
            "Epoch 76/100\n",
            "50/50 [==============================] - 0s 6ms/step - loss: 0.0017\n",
            "Epoch 77/100\n",
            "50/50 [==============================] - 0s 6ms/step - loss: 0.0015\n",
            "Epoch 78/100\n",
            "50/50 [==============================] - 0s 6ms/step - loss: 0.0016\n",
            "Epoch 79/100\n",
            "50/50 [==============================] - 0s 6ms/step - loss: 0.0017\n",
            "Epoch 80/100\n",
            "50/50 [==============================] - 0s 6ms/step - loss: 0.0019\n",
            "Epoch 81/100\n",
            "50/50 [==============================] - 0s 6ms/step - loss: 0.0015\n",
            "Epoch 82/100\n",
            "50/50 [==============================] - 0s 6ms/step - loss: 0.0020\n",
            "Epoch 83/100\n",
            "50/50 [==============================] - 0s 6ms/step - loss: 0.0016\n",
            "Epoch 84/100\n",
            "50/50 [==============================] - 0s 6ms/step - loss: 0.0015\n",
            "Epoch 85/100\n",
            "50/50 [==============================] - 0s 6ms/step - loss: 0.0018\n",
            "Epoch 86/100\n",
            "50/50 [==============================] - 0s 6ms/step - loss: 0.0016\n",
            "Epoch 87/100\n",
            "50/50 [==============================] - 0s 6ms/step - loss: 0.0016\n",
            "Epoch 88/100\n",
            "50/50 [==============================] - 0s 6ms/step - loss: 0.0017\n",
            "Epoch 89/100\n",
            "50/50 [==============================] - 0s 6ms/step - loss: 0.0017\n",
            "Epoch 90/100\n",
            "50/50 [==============================] - 0s 6ms/step - loss: 0.0016\n",
            "Epoch 91/100\n",
            "50/50 [==============================] - 0s 6ms/step - loss: 0.0016\n",
            "Epoch 92/100\n",
            "50/50 [==============================] - 0s 6ms/step - loss: 0.0016\n",
            "Epoch 93/100\n",
            "50/50 [==============================] - 0s 6ms/step - loss: 0.0017\n",
            "Epoch 94/100\n",
            "50/50 [==============================] - 0s 5ms/step - loss: 0.0016\n",
            "Epoch 95/100\n",
            "50/50 [==============================] - 0s 6ms/step - loss: 0.0016\n",
            "Epoch 96/100\n",
            "50/50 [==============================] - 0s 6ms/step - loss: 0.0017\n",
            "Epoch 97/100\n",
            "50/50 [==============================] - 0s 6ms/step - loss: 0.0017\n",
            "Epoch 98/100\n",
            "50/50 [==============================] - 0s 6ms/step - loss: 0.0017\n",
            "Epoch 99/100\n",
            "50/50 [==============================] - 0s 6ms/step - loss: 0.0016\n",
            "Epoch 100/100\n",
            "50/50 [==============================] - 0s 5ms/step - loss: 0.0018\n"
          ],
          "name": "stdout"
        }
      ]
    },
    {
      "cell_type": "code",
      "metadata": {
        "id": "ZB0YW7z0xqGV",
        "colab": {
          "base_uri": "https://localhost:8080/"
        },
        "outputId": "caf7b2af-cf46-4b86-f84c-c40a15bbea78"
      },
      "source": [
        "targets = test[target_col][window_len:]\n",
        "preds = model.predict(X_test).squeeze()\n",
        "mean_absolute_error(preds, y_test)"
      ],
      "execution_count": 130,
      "outputs": [
        {
          "output_type": "execute_result",
          "data": {
            "text/plain": [
              "0.028082201347969602"
            ]
          },
          "metadata": {
            "tags": []
          },
          "execution_count": 130
        }
      ]
    },
    {
      "cell_type": "code",
      "metadata": {
        "id": "CY8mVzOZxv0s",
        "colab": {
          "base_uri": "https://localhost:8080/",
          "height": 667
        },
        "outputId": "acb9c930-541f-4a87-f92f-5be97f473ccf"
      },
      "source": [
        "preds = test[target_col].values[:-window_len] * (preds + 1)\n",
        "preds = pd.Series(index=targets.index, data=preds)\n",
        "line_plot( targets, preds, 'actual', 'prediction', lw=3)\n",
        "print(targets)\n",
        "print(\"Closing Price:\")\n"
      ],
      "execution_count": 131,
      "outputs": [
        {
          "output_type": "stream",
          "text": [
            "time\n",
            "2020-02-04     9171.98\n",
            "2020-02-05     9611.42\n",
            "2020-02-06     9755.84\n",
            "2020-02-07     9808.36\n",
            "2020-02-08     9898.25\n",
            "                ...   \n",
            "2021-02-28    45261.03\n",
            "2021-03-01    49635.07\n",
            "2021-03-02    48501.21\n",
            "2021-03-03    50392.55\n",
            "2021-03-04    49535.36\n",
            "Name: close, Length: 395, dtype: float64\n",
            "Closing Price:\n"
          ],
          "name": "stdout"
        },
        {
          "output_type": "display_data",
          "data": {
            "image/png": "[encoded data removed]",
            "text/plain": [
              "<Figure size 936x504 with 1 Axes>"
            ]
          },
          "metadata": {
            "tags": [],
            "needs_background": "light"
          }
        }
      ]
    }
  ]
}